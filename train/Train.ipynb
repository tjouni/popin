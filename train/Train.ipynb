{
 "cells": [
  {
   "cell_type": "markdown",
   "id": "94827a3f-9087-4280-a4d3-b24e311a13e2",
   "metadata": {},
   "source": [
    "### Cuda setup"
   ]
  },
  {
   "cell_type": "code",
   "execution_count": null,
   "id": "6e8fb4e2-202a-42ef-a7a2-e640f0c6a686",
   "metadata": {},
   "outputs": [],
   "source": [
    "import torch\n",
    "import numpy as np\n",
    "import random\n",
    "import warnings\n",
    "\n",
    "# Set random seeds.\n",
    "torch.manual_seed(42)\n",
    "np.random.seed(42)\n",
    "random.seed(42)\n",
    "\n",
    "# %env CUBLAS_WORKSPACE_CONFIG=:4096:8\n",
    "torch.use_deterministic_algorithms(True)\n",
    "\n",
    "cuda = torch.cuda.is_available()\n",
    "\n",
    "warnings.filterwarnings('ignore')"
   ]
  },
  {
   "cell_type": "markdown",
   "id": "8e50f38f-ad79-4223-a1da-1f474862bad5",
   "metadata": {},
   "source": [
    "### Define dataset"
   ]
  },
  {
   "cell_type": "code",
   "execution_count": null,
   "id": "b7f610f8-a174-445e-80f4-accb3c051f6d",
   "metadata": {},
   "outputs": [],
   "source": [
    "from dataset import InstaDataset\n",
    "from torch.utils.data import DataLoader\n",
    "import torchvision.transforms as T\n",
    "\n",
    "transform = T.Compose([\n",
    "    T.ToTensor(),\n",
    "    T.Resize(400),\n",
    "    T.CenterCrop(400),\n",
    "    T.Normalize([0.485, 0.456, 0.406], [0.229, 0.224, 0.225])\n",
    "])\n",
    "\n",
    "transform_target = False\n",
    "pretrained = False\n",
    "\n",
    "train_ds = InstaDataset('../train.json', '../data_new/', transform=transform, transform_target=transform_target)\n",
    "val_ds = InstaDataset('../val.json', '../data_new/', transform=transform, transform_target=transform_target)\n",
    "\n",
    "train_loader = DataLoader(train_ds, \n",
    "                          batch_size=16, \n",
    "                          num_workers=4,\n",
    "                          shuffle=True,\n",
    "                          pin_memory=True)\n",
    "val_loader = DataLoader(val_ds, \n",
    "                          batch_size=16, \n",
    "                          num_workers=4,\n",
    "                          pin_memory=True)"
   ]
  },
  {
   "cell_type": "markdown",
   "id": "e40f5b94-f1cc-4cd5-b893-033f705148ce",
   "metadata": {},
   "source": [
    "### Define logger"
   ]
  },
  {
   "cell_type": "code",
   "execution_count": null,
   "id": "d6fdc1f0-de49-40ce-845f-e84955c1c712",
   "metadata": {},
   "outputs": [],
   "source": [
    "import wandb\n",
    "from pytorch_lightning.loggers import WandbLogger\n",
    "\n",
    "wandb.login(relogin=True)\n",
    "\n",
    "wandb_logger = WandbLogger(project='PopIn',\n",
    "                           entity=\"ids_course\",\n",
    "                           log_model=True,\n",
    "                           tags=['no_target_transform'],\n",
    "                           settings=wandb.Settings(start_method=\"thread\"))"
   ]
  },
  {
   "cell_type": "markdown",
   "id": "cd42bbc4-35d4-4bc3-a1a3-55adcb03ae6b",
   "metadata": {},
   "source": [
    "### Define training pipeline"
   ]
  },
  {
   "cell_type": "code",
   "execution_count": null,
   "id": "7798fa09-5523-4729-93ef-d9a2960185b0",
   "metadata": {},
   "outputs": [],
   "source": [
    "from lightning import Insta\n",
    "from pytorch_lightning.loggers import WandbLogger\n",
    "from pytorch_lightning import Trainer\n",
    "\n",
    "model = Insta(dim=32, lr=1e-5, weight_decay=1e-5, transform_target=transform_target, pretrained=pretrained)\n",
    "wandb_logger.watch(model, log=\"all\", log_graph=True, log_freq=10)\n",
    "trainer = Trainer(devices=1, accelerator=\"gpu\", logger=wandb_logger, max_epochs=10, log_every_n_steps=10)\n",
    "trainer.fit(model, train_loader, val_loader)\n",
    "wandb.finish()"
   ]
  }
 ],
 "metadata": {
  "kernelspec": {
   "display_name": "training",
   "language": "python",
   "name": "training"
  },
  "language_info": {
   "codemirror_mode": {
    "name": "ipython",
    "version": 3
   },
   "file_extension": ".py",
   "mimetype": "text/x-python",
   "name": "python",
   "nbconvert_exporter": "python",
   "pygments_lexer": "ipython3",
   "version": "3.10.6"
  }
 },
 "nbformat": 4,
 "nbformat_minor": 5
}
